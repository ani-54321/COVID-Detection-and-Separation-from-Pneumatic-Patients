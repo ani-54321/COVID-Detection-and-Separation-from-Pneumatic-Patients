{
  "nbformat": 4,
  "nbformat_minor": 0,
  "metadata": {
    "colab": {
      "name": "Covid_Detection_93_pct_Final.ipynb",
      "provenance": [],
      "collapsed_sections": []
    },
    "kernelspec": {
      "name": "python3",
      "display_name": "Python 3"
    }
  },
  "cells": [
    {
      "cell_type": "code",
      "metadata": {
        "colab": {
          "base_uri": "https://localhost:8080/"
        },
        "id": "FQUSdPfxxHrg",
        "outputId": "3bc738c8-21f8-4266-9918-ef7481a944ec"
      },
      "source": [
        "#Data Gathering...\r\n",
        "from google.colab import drive\r\n",
        "drive.mount('/content/gdrive', force_remount=True)"
      ],
      "execution_count": null,
      "outputs": [
        {
          "output_type": "stream",
          "text": [
            "Mounted at /content/gdrive\n"
          ],
          "name": "stdout"
        }
      ]
    },
    {
      "cell_type": "markdown",
      "metadata": {
        "id": "SUK00urfY1Eh"
      },
      "source": [
        "# **Training Part**"
      ]
    },
    {
      "cell_type": "code",
      "metadata": {
        "id": "aie75MH-xP7Y"
      },
      "source": [
        "COMMAN_PATH = '/content/gdrive/\"My Drive\"/Split_Dataset/train-data/'"
      ],
      "execution_count": null,
      "outputs": []
    },
    {
      "cell_type": "code",
      "metadata": {
        "id": "CLD-DOStxXHo"
      },
      "source": [
        "PATH_OF_DATA = COMMAN_PATH + '/COVID-19'\r\n",
        "lis = !ls {PATH_OF_DATA}"
      ],
      "execution_count": null,
      "outputs": []
    },
    {
      "cell_type": "code",
      "metadata": {
        "id": "_Tfg24z2xY7R"
      },
      "source": [
        "PATH_OF_DATA= COMMAN_PATH + '/NORMAL'\r\n",
        "norm = !ls {PATH_OF_DATA}"
      ],
      "execution_count": null,
      "outputs": []
    },
    {
      "cell_type": "code",
      "metadata": {
        "id": "pqmmUBKoxaXJ"
      },
      "source": [
        "PATH_OF_DATA= COMMAN_PATH + '/\"Viral Pneumonia\"'\r\n",
        "pnm = !ls {PATH_OF_DATA}"
      ],
      "execution_count": null,
      "outputs": []
    },
    {
      "cell_type": "code",
      "metadata": {
        "colab": {
          "base_uri": "https://localhost:8080/",
          "height": 35
        },
        "id": "jjUEUug4xvTk",
        "outputId": "dc40630e-1be0-4bcb-ffd0-74c29b7cd06c"
      },
      "source": [
        "lis[0]"
      ],
      "execution_count": null,
      "outputs": [
        {
          "output_type": "execute_result",
          "data": {
            "application/vnd.google.colaboratory.intrinsic+json": {
              "type": "string"
            },
            "text/plain": [
              "\"'COVID-19 (100).png'  'COVID-19(159).png'  'COVID-19 (43).png'\""
            ]
          },
          "metadata": {
            "tags": []
          },
          "execution_count": 9
        }
      ]
    },
    {
      "cell_type": "code",
      "metadata": {
        "colab": {
          "base_uri": "https://localhost:8080/",
          "height": 35
        },
        "id": "8KOE8Ydcxz8G",
        "outputId": "5a53406a-9c2c-40c9-eddd-24a53168591c"
      },
      "source": [
        "norm[0]"
      ],
      "execution_count": null,
      "outputs": [
        {
          "output_type": "execute_result",
          "data": {
            "application/vnd.google.colaboratory.intrinsic+json": {
              "type": "string"
            },
            "text/plain": [
              "\"'NORMAL (1000).png'  'NORMAL (187).png'  'NORMAL (459).png'  'NORMAL (730).png'\""
            ]
          },
          "metadata": {
            "tags": []
          },
          "execution_count": 10
        }
      ]
    },
    {
      "cell_type": "code",
      "metadata": {
        "colab": {
          "base_uri": "https://localhost:8080/",
          "height": 35
        },
        "id": "J1FATtdXx13N",
        "outputId": "198ee6e9-e1bd-4597-b976-ee89c11b5d70"
      },
      "source": [
        "pnm[0]"
      ],
      "execution_count": null,
      "outputs": [
        {
          "output_type": "execute_result",
          "data": {
            "application/vnd.google.colaboratory.intrinsic+json": {
              "type": "string"
            },
            "text/plain": [
              "\"'Viral Pneumonia (1000).png'  'Viral Pneumonia (458).png'\""
            ]
          },
          "metadata": {
            "tags": []
          },
          "execution_count": 11
        }
      ]
    },
    {
      "cell_type": "code",
      "metadata": {
        "id": "K5NQt-Myx3Ml"
      },
      "source": [
        "#Import Statements for Preprocessing, Training and Testing\r\n",
        "import matplotlib.pyplot as plt\r\n",
        "import numpy as np\r\n",
        "from PIL import Image\r\n",
        "import tensorflow as tf\r\n",
        "from tensorflow import keras\r\n",
        "from keras.models import Sequential\r\n",
        "from keras.layers import Dense, Flatten, Conv2D, Conv1D, MaxPooling2D, Dropout\r\n",
        "from keras.utils import to_categorical\r\n",
        "import cv2\r\n",
        "import math\r\n",
        "import os\r\n",
        "COMMAN_PATH = 'gdrive/My Drive/Split_Dataset/train-data'\r\n",
        "img_height, img_width = 256, 256"
      ],
      "execution_count": null,
      "outputs": []
    },
    {
      "cell_type": "code",
      "metadata": {
        "id": "bh9PejD8x5dS"
      },
      "source": [
        "lis2=[]\r\n",
        "for i in lis:\r\n",
        "  for j in range(3):\r\n",
        "    start=i.find('\\'')\r\n",
        "    end=i.find('\\'', start+1)\r\n",
        "\r\n",
        "    if start>=0:\r\n",
        "      temp_name = i[start+1:end]\r\n",
        "      full_path = os.path.join(COMMAN_PATH, 'COVID-19', temp_name)\r\n",
        "      lis2.append(full_path)\r\n",
        "      i=i.replace(i[start:end+1], '', 1)"
      ],
      "execution_count": null,
      "outputs": []
    },
    {
      "cell_type": "code",
      "metadata": {
        "id": "oXD9gGejx8vJ"
      },
      "source": [
        "norm2=[]\r\n",
        "for i in norm:\r\n",
        "  for j in range(4):\r\n",
        "    start=i.find('\\'')\r\n",
        "    end=i.find('\\'', start+1)\r\n",
        "\r\n",
        "    if start>=0:\r\n",
        "      temp_name = i[start+1:end]\r\n",
        "      full_path = os.path.join(COMMAN_PATH, 'NORMAL', temp_name)\r\n",
        "      norm2.append(full_path)\r\n",
        "      i=i.replace(i[start:end+1], '', 1)"
      ],
      "execution_count": null,
      "outputs": []
    },
    {
      "cell_type": "code",
      "metadata": {
        "id": "mbwCmFS3yAKZ"
      },
      "source": [
        "pnm2=[]\r\n",
        "for i in pnm:\r\n",
        "  for j in range(2):\r\n",
        "    start=i.find('\\'')\r\n",
        "    end=i.find('\\'', start+1)\r\n",
        "\r\n",
        "    if start>=0:\r\n",
        "      temp_name = i[start+1:end]\r\n",
        "      full_path = os.path.join(COMMAN_PATH, 'Viral Pneumonia', temp_name)\r\n",
        "      pnm2.append(full_path)\r\n",
        "      i=i.replace(i[start:end+1], '', 1)"
      ],
      "execution_count": null,
      "outputs": []
    },
    {
      "cell_type": "code",
      "metadata": {
        "colab": {
          "base_uri": "https://localhost:8080/"
        },
        "id": "FYo5zDvwyDBE",
        "outputId": "fefd24b3-5e9e-4ca9-d5b8-f904743aeb25"
      },
      "source": [
        "print(\"Pneumatic : {0}\\nCovid : {1}\\nNormal : {2}\".format(len(pnm2), len(lis2), len(norm2)))"
      ],
      "execution_count": null,
      "outputs": [
        {
          "output_type": "stream",
          "text": [
            "Pneumatic : 1206\n",
            "Covid : 184\n",
            "Normal : 1206\n"
          ],
          "name": "stdout"
        }
      ]
    },
    {
      "cell_type": "code",
      "metadata": {
        "colab": {
          "base_uri": "https://localhost:8080/",
          "height": 35
        },
        "id": "HMBpoV7jyVx7",
        "outputId": "ab040f63-e321-4807-fc85-510279233f8c"
      },
      "source": [
        "norm2[0]"
      ],
      "execution_count": null,
      "outputs": [
        {
          "output_type": "execute_result",
          "data": {
            "application/vnd.google.colaboratory.intrinsic+json": {
              "type": "string"
            },
            "text/plain": [
              "'gdrive/My Drive/Split_Dataset/train-data/NORMAL/NORMAL (1000).png'"
            ]
          },
          "metadata": {
            "tags": []
          },
          "execution_count": 27
        }
      ]
    },
    {
      "cell_type": "code",
      "metadata": {
        "id": "Teb4jOxsyY8z"
      },
      "source": [
        "x_train1 = []\r\n",
        "for images in range(len(lis2)):\r\n",
        "  # print(\"Image : {}\".format(lis2[images]))\r\n",
        "  # image = cv2.imread(lis2[images], 1)\r\n",
        "  image = cv2.imread(lis2[images])\r\n",
        "  #height, width = image.shape[:2]\r\n",
        "  flippedimage1 = cv2.flip(image, 1)\r\n",
        "  flippedimage2 = cv2.flip(image, 0)\r\n",
        "  x_train1.append(cv2.resize(image, (img_height, img_width)))\r\n",
        "  x_train1.append(cv2.resize(flippedimage1, (img_height, img_width)))\r\n",
        "  x_train1.append(cv2.resize(flippedimage2, (img_height, img_width)))\r\n",
        "  # image = image[ math.ceil((1/10)*width) : width - math.ceil((1/10)*width), math.ceil((3/20)*height) : height - math.ceil((1/20)*height) ]\r\n",
        "  # flippedimage = cv2.flip(image, 1)\r\n",
        "  # x_train1.append(cv2.resize(image, (64,64)))\r\n",
        "  # x_train1.append(cv2.resize(flippedimage, (64,64)))"
      ],
      "execution_count": null,
      "outputs": []
    },
    {
      "cell_type": "code",
      "metadata": {
        "colab": {
          "base_uri": "https://localhost:8080/"
        },
        "id": "ZmwcemlnybtY",
        "outputId": "2790acc0-e8f7-4b83-9654-9ed5fb674e06"
      },
      "source": [
        "x_train1 = np.array(x_train1)\r\n",
        "x_train1.shape"
      ],
      "execution_count": null,
      "outputs": [
        {
          "output_type": "execute_result",
          "data": {
            "text/plain": [
              "(552, 256, 256, 3)"
            ]
          },
          "metadata": {
            "tags": []
          },
          "execution_count": 29
        }
      ]
    },
    {
      "cell_type": "code",
      "metadata": {
        "id": "W60bAOYeye5_"
      },
      "source": [
        "x_train2 = []\r\n",
        "for i in range(len(pnm2)):\r\n",
        "  image = cv2.imread(pnm2[i])\r\n",
        "  #height, width = image.shape[:2]\r\n",
        "  #image = image[ math.floor((1/10)*width) : width - math.floor((1/10)*width), math.floor((3/20)*height) : height - math.floor((1/20)*height) ]\r\n",
        "  flippedimage1 = cv2.flip(image, 1)\r\n",
        "  flippedimage2 = cv2.flip(image, 0)\r\n",
        "  x_train2.append(cv2.resize(image, (img_height, img_width)))\r\n",
        "  x_train2.append(cv2.resize(flippedimage1, (img_height, img_width)))\r\n",
        "  x_train2.append(cv2.resize(flippedimage2, (img_height, img_width)))"
      ],
      "execution_count": null,
      "outputs": []
    },
    {
      "cell_type": "code",
      "metadata": {
        "colab": {
          "base_uri": "https://localhost:8080/"
        },
        "id": "TJWb0YBPye2c",
        "outputId": "e93afcc0-0431-414d-ae79-2aded24066ae"
      },
      "source": [
        "x_train2 = np.array(x_train2)\r\n",
        "x_train2.shape"
      ],
      "execution_count": null,
      "outputs": [
        {
          "output_type": "execute_result",
          "data": {
            "text/plain": [
              "(3618, 256, 256, 3)"
            ]
          },
          "metadata": {
            "tags": []
          },
          "execution_count": 32
        }
      ]
    },
    {
      "cell_type": "code",
      "metadata": {
        "id": "cKXrUowhyezo"
      },
      "source": [
        "\r\n",
        "x_train3 = []\r\n",
        "for i in range(len(norm2)):\r\n",
        "  image = cv2.imread(norm2[i])\r\n",
        "  #height, width = image.shape[:2]\r\n",
        "  #image = image[ math.floor((1/10)*width) : width - math.floor((1/10)*width), math.floor((3/20)*height) : height - math.floor((1/20)*height) ]\r\n",
        "  flippedimage1 = cv2.flip(image, 1)\r\n",
        "  flippedimage2 = cv2.flip(image, 0)\r\n",
        "  x_train3.append(cv2.resize(image, (img_height, img_width)))\r\n",
        "  x_train3.append(cv2.resize(flippedimage1, (img_height, img_width)))\r\n",
        "  x_train3.append(cv2.resize(flippedimage2, (img_height, img_width)))"
      ],
      "execution_count": null,
      "outputs": []
    },
    {
      "cell_type": "code",
      "metadata": {
        "colab": {
          "base_uri": "https://localhost:8080/"
        },
        "id": "xQFAc6Q8yexC",
        "outputId": "d97a5fcc-3846-404c-f69b-7fb477aec176"
      },
      "source": [
        "x_train3 = np.array(x_train3)\r\n",
        "x_train3.shape"
      ],
      "execution_count": null,
      "outputs": [
        {
          "output_type": "execute_result",
          "data": {
            "text/plain": [
              "(3618, 256, 256, 3)"
            ]
          },
          "metadata": {
            "tags": []
          },
          "execution_count": 34
        }
      ]
    },
    {
      "cell_type": "code",
      "metadata": {
        "id": "N8dMk5vlyeqz"
      },
      "source": [
        "x_train = np.vstack((x_train1, x_train2, x_train3)) "
      ],
      "execution_count": null,
      "outputs": []
    },
    {
      "cell_type": "code",
      "metadata": {
        "colab": {
          "base_uri": "https://localhost:8080/"
        },
        "id": "jqWNcXM_yeap",
        "outputId": "2accc0a5-f69d-4fb0-bba3-2469aa5ac03b"
      },
      "source": [
        "x_train.shape"
      ],
      "execution_count": null,
      "outputs": [
        {
          "output_type": "execute_result",
          "data": {
            "text/plain": [
              "(7788, 256, 256, 3)"
            ]
          },
          "metadata": {
            "tags": []
          },
          "execution_count": 36
        }
      ]
    },
    {
      "cell_type": "code",
      "metadata": {
        "id": "LEP9uckez0bp"
      },
      "source": [
        "y_train1 = np.zeros((len(x_train1),1), dtype='int32')\r\n",
        "y_train2 = np.ones((len(x_train2),1), dtype='int32')\r\n",
        "y_train3 = np.full((len(x_train3),1), 2)"
      ],
      "execution_count": null,
      "outputs": []
    },
    {
      "cell_type": "code",
      "metadata": {
        "id": "Z6Fl2zURz0Zn"
      },
      "source": [
        "y_train = np.vstack((y_train1, y_train2, y_train3))"
      ],
      "execution_count": null,
      "outputs": []
    },
    {
      "cell_type": "code",
      "metadata": {
        "id": "n0C0JBfFz0Xe"
      },
      "source": [
        "y_train_one_hot = to_categorical(y_train)"
      ],
      "execution_count": null,
      "outputs": []
    },
    {
      "cell_type": "code",
      "metadata": {
        "colab": {
          "base_uri": "https://localhost:8080/"
        },
        "id": "-1smulyzz0VE",
        "outputId": "d6646d66-6c9e-464b-8440-377074e26d25"
      },
      "source": [
        "y_train.shape"
      ],
      "execution_count": null,
      "outputs": [
        {
          "output_type": "execute_result",
          "data": {
            "text/plain": [
              "(7788, 1)"
            ]
          },
          "metadata": {
            "tags": []
          },
          "execution_count": 40
        }
      ]
    },
    {
      "cell_type": "code",
      "metadata": {
        "colab": {
          "base_uri": "https://localhost:8080/"
        },
        "id": "SanRP4VWz0Ss",
        "outputId": "c0af2976-1403-42d9-8be3-5a0d448c217d"
      },
      "source": [
        "y_train_one_hot"
      ],
      "execution_count": null,
      "outputs": [
        {
          "output_type": "execute_result",
          "data": {
            "text/plain": [
              "array([[1., 0., 0.],\n",
              "       [1., 0., 0.],\n",
              "       [1., 0., 0.],\n",
              "       ...,\n",
              "       [0., 0., 1.],\n",
              "       [0., 0., 1.],\n",
              "       [0., 0., 1.]], dtype=float32)"
            ]
          },
          "metadata": {
            "tags": []
          },
          "execution_count": 41
        }
      ]
    },
    {
      "cell_type": "code",
      "metadata": {
        "colab": {
          "base_uri": "https://localhost:8080/"
        },
        "id": "D9PuHchuz0Mb",
        "outputId": "bb6a3720-8a57-461b-84f2-1761a341d4ac"
      },
      "source": [
        "print(\"Y shape:\" ,y_train_one_hot.shape)\r\n",
        "print(\"X Shape:\", x_train.shape)"
      ],
      "execution_count": null,
      "outputs": [
        {
          "output_type": "stream",
          "text": [
            "Y shape: (7788, 3)\n",
            "X Shape: (7788, 256, 256, 3)\n"
          ],
          "name": "stdout"
        }
      ]
    },
    {
      "cell_type": "code",
      "metadata": {
        "id": "wNj6yzhez0Gj"
      },
      "source": [
        "#Model Making...\r\n",
        "model = Sequential()\r\n",
        "\r\n",
        "model.add(Conv2D(32, (4, 4), activation='relu', input_shape=(img_height, img_width,3)))\r\n",
        "\r\n",
        "model.add(MaxPooling2D(pool_size=(2, 2)))\r\n",
        "\r\n",
        "model.add(Conv2D(64, (3, 3), activation='relu'))\r\n",
        "\r\n",
        "model.add(MaxPooling2D(pool_size=(2, 2)))\r\n",
        "\r\n",
        "model.add(Conv1D(32, 2, activation='relu', input_shape=(img_height, img_width,32)))\r\n",
        "\r\n",
        "model.add(MaxPooling2D(pool_size=(2, 2)))\r\n",
        "\r\n",
        "model.add(Conv1D(32, 2, activation='relu', input_shape=(img_height, img_width,32)))\r\n",
        "\r\n",
        "model.add(MaxPooling2D(pool_size=(2, 2)))\r\n",
        "\r\n",
        "model.add(Flatten())\r\n",
        "\r\n",
        "model.add(Dropout(0.2))\r\n",
        "\r\n",
        "model.add(Dense(900, activation='relu'))\r\n",
        "\r\n",
        "#model.add(Dropout(0.1))\r\n",
        "\r\n",
        "model.add(Dense(512, activation='relu'))\r\n",
        "\r\n",
        "# model.add(Dropout(0.2))\r\n",
        "\r\n",
        "#model.add(Dense(300))\r\n",
        "\r\n",
        "#model.add(Dropout(0.10))\r\n",
        "\r\n",
        "model.add(Dense(3, activation='softmax'))"
      ],
      "execution_count": null,
      "outputs": []
    },
    {
      "cell_type": "code",
      "metadata": {
        "colab": {
          "base_uri": "https://localhost:8080/"
        },
        "id": "kTFqdm6v0ANO",
        "outputId": "a22a75fd-e202-4308-c99f-b188ff6f6bd2"
      },
      "source": [
        "model.summary()"
      ],
      "execution_count": null,
      "outputs": [
        {
          "output_type": "stream",
          "text": [
            "Model: \"sequential\"\n",
            "_________________________________________________________________\n",
            "Layer (type)                 Output Shape              Param #   \n",
            "=================================================================\n",
            "conv2d (Conv2D)              (None, 253, 253, 32)      1568      \n",
            "_________________________________________________________________\n",
            "max_pooling2d (MaxPooling2D) (None, 126, 126, 32)      0         \n",
            "_________________________________________________________________\n",
            "conv2d_1 (Conv2D)            (None, 124, 124, 64)      18496     \n",
            "_________________________________________________________________\n",
            "max_pooling2d_1 (MaxPooling2 (None, 62, 62, 64)        0         \n",
            "_________________________________________________________________\n",
            "conv1d (Conv1D)              (None, 62, 61, 32)        4128      \n",
            "_________________________________________________________________\n",
            "max_pooling2d_2 (MaxPooling2 (None, 31, 30, 32)        0         \n",
            "_________________________________________________________________\n",
            "conv1d_1 (Conv1D)            (None, 31, 29, 32)        2080      \n",
            "_________________________________________________________________\n",
            "max_pooling2d_3 (MaxPooling2 (None, 15, 14, 32)        0         \n",
            "_________________________________________________________________\n",
            "flatten (Flatten)            (None, 6720)              0         \n",
            "_________________________________________________________________\n",
            "dropout (Dropout)            (None, 6720)              0         \n",
            "_________________________________________________________________\n",
            "dense (Dense)                (None, 900)               6048900   \n",
            "_________________________________________________________________\n",
            "dense_1 (Dense)              (None, 512)               461312    \n",
            "_________________________________________________________________\n",
            "dense_2 (Dense)              (None, 3)                 1539      \n",
            "=================================================================\n",
            "Total params: 6,538,023\n",
            "Trainable params: 6,538,023\n",
            "Non-trainable params: 0\n",
            "_________________________________________________________________\n"
          ],
          "name": "stdout"
        }
      ]
    },
    {
      "cell_type": "code",
      "metadata": {
        "id": "vwmopKkt0AJ-"
      },
      "source": [
        "model.compile(loss='categorical_crossentropy',\r\n",
        "              optimizer='adam',\r\n",
        "              metrics=['accuracy'])"
      ],
      "execution_count": null,
      "outputs": []
    },
    {
      "cell_type": "code",
      "metadata": {
        "colab": {
          "base_uri": "https://localhost:8080/"
        },
        "id": "r8nOODFe0AHU",
        "outputId": "f042ecd9-3227-4b40-d4eb-c9dcee398c66"
      },
      "source": [
        "#Training Phase...\r\n",
        "hist = model.fit(x_train, y_train_one_hot,\r\n",
        "                 batch_size=32,\r\n",
        "                 epochs=30,\r\n",
        "                 initial_epoch=0,\r\n",
        "                 shuffle=True,\r\n",
        "                 validation_split=0.1,)"
      ],
      "execution_count": null,
      "outputs": [
        {
          "output_type": "stream",
          "text": [
            "Epoch 1/30\n",
            "220/220 [==============================] - 554s 3s/step - loss: 10.7945 - accuracy: 0.6242 - val_loss: 0.0590 - val_accuracy: 0.9910\n",
            "Epoch 2/30\n",
            "220/220 [==============================] - 552s 3s/step - loss: 0.2415 - accuracy: 0.9138 - val_loss: 0.1609 - val_accuracy: 0.9525\n",
            "Epoch 3/30\n",
            "220/220 [==============================] - 552s 3s/step - loss: 0.1929 - accuracy: 0.9334 - val_loss: 0.0846 - val_accuracy: 0.9795\n",
            "Epoch 4/30\n",
            "220/220 [==============================] - 552s 3s/step - loss: 0.1610 - accuracy: 0.9389 - val_loss: 0.1282 - val_accuracy: 0.9628\n",
            "Epoch 5/30\n",
            "220/220 [==============================] - 552s 3s/step - loss: 0.1323 - accuracy: 0.9527 - val_loss: 0.1546 - val_accuracy: 0.9730\n",
            "Epoch 6/30\n",
            "220/220 [==============================] - 550s 3s/step - loss: 0.1382 - accuracy: 0.9529 - val_loss: 0.0982 - val_accuracy: 0.9769\n",
            "Epoch 7/30\n",
            "220/220 [==============================] - 548s 2s/step - loss: 0.1765 - accuracy: 0.9376 - val_loss: 0.0715 - val_accuracy: 0.9846\n",
            "Epoch 8/30\n",
            "220/220 [==============================] - 550s 3s/step - loss: 0.0934 - accuracy: 0.9685 - val_loss: 0.1884 - val_accuracy: 0.9435\n",
            "Epoch 9/30\n",
            "220/220 [==============================] - 550s 2s/step - loss: 0.0798 - accuracy: 0.9691 - val_loss: 0.2145 - val_accuracy: 0.9615\n",
            "Epoch 10/30\n",
            "220/220 [==============================] - 550s 2s/step - loss: 0.0627 - accuracy: 0.9781 - val_loss: 0.1396 - val_accuracy: 0.9564\n",
            "Epoch 11/30\n",
            "220/220 [==============================] - 550s 2s/step - loss: 0.0605 - accuracy: 0.9779 - val_loss: 0.0925 - val_accuracy: 0.9756\n",
            "Epoch 12/30\n",
            "220/220 [==============================] - 547s 2s/step - loss: 0.0410 - accuracy: 0.9855 - val_loss: 0.2708 - val_accuracy: 0.9332\n",
            "Epoch 13/30\n",
            "220/220 [==============================] - 547s 2s/step - loss: 0.0387 - accuracy: 0.9864 - val_loss: 0.2251 - val_accuracy: 0.9525\n",
            "Epoch 14/30\n",
            "220/220 [==============================] - 546s 2s/step - loss: 0.0365 - accuracy: 0.9871 - val_loss: 0.1330 - val_accuracy: 0.9705\n",
            "Epoch 15/30\n",
            "220/220 [==============================] - 542s 2s/step - loss: 0.1770 - accuracy: 0.9405 - val_loss: 0.1335 - val_accuracy: 0.9692\n",
            "Epoch 16/30\n",
            "220/220 [==============================] - 541s 2s/step - loss: 0.0604 - accuracy: 0.9779 - val_loss: 0.1328 - val_accuracy: 0.9730\n",
            "Epoch 17/30\n",
            "220/220 [==============================] - 543s 2s/step - loss: 0.0216 - accuracy: 0.9927 - val_loss: 0.1482 - val_accuracy: 0.9653\n",
            "Epoch 18/30\n",
            "220/220 [==============================] - 544s 2s/step - loss: 0.0330 - accuracy: 0.9878 - val_loss: 0.3026 - val_accuracy: 0.9602\n",
            "Epoch 19/30\n",
            "220/220 [==============================] - 544s 2s/step - loss: 0.0320 - accuracy: 0.9889 - val_loss: 0.1566 - val_accuracy: 0.9538\n",
            "Epoch 20/30\n",
            "220/220 [==============================] - 544s 2s/step - loss: 0.0498 - accuracy: 0.9817 - val_loss: 0.1118 - val_accuracy: 0.9730\n",
            "Epoch 21/30\n",
            "220/220 [==============================] - 543s 2s/step - loss: 0.0397 - accuracy: 0.9869 - val_loss: 0.4852 - val_accuracy: 0.8960\n",
            "Epoch 22/30\n",
            "220/220 [==============================] - 542s 2s/step - loss: 0.0572 - accuracy: 0.9815 - val_loss: 0.1867 - val_accuracy: 0.9679\n",
            "Epoch 23/30\n",
            "220/220 [==============================] - 542s 2s/step - loss: 0.0146 - accuracy: 0.9956 - val_loss: 0.2175 - val_accuracy: 0.9653\n",
            "Epoch 24/30\n",
            "220/220 [==============================] - 541s 2s/step - loss: 0.0162 - accuracy: 0.9949 - val_loss: 0.4013 - val_accuracy: 0.9178\n",
            "Epoch 25/30\n",
            "220/220 [==============================] - 540s 2s/step - loss: 0.0483 - accuracy: 0.9854 - val_loss: 0.1433 - val_accuracy: 0.9653\n",
            "Epoch 26/30\n",
            "220/220 [==============================] - 538s 2s/step - loss: 0.0554 - accuracy: 0.9793 - val_loss: 0.3182 - val_accuracy: 0.9551\n",
            "Epoch 27/30\n",
            "220/220 [==============================] - 538s 2s/step - loss: 0.0457 - accuracy: 0.9849 - val_loss: 0.2259 - val_accuracy: 0.9525\n",
            "Epoch 28/30\n",
            "220/220 [==============================] - 538s 2s/step - loss: 0.0194 - accuracy: 0.9934 - val_loss: 0.4605 - val_accuracy: 0.9178\n",
            "Epoch 29/30\n",
            "220/220 [==============================] - 537s 2s/step - loss: 0.0218 - accuracy: 0.9935 - val_loss: 0.1882 - val_accuracy: 0.9653\n",
            "Epoch 30/30\n",
            "220/220 [==============================] - 538s 2s/step - loss: 0.0054 - accuracy: 0.9981 - val_loss: 0.3497 - val_accuracy: 0.9307\n"
          ],
          "name": "stdout"
        }
      ]
    },
    {
      "cell_type": "code",
      "metadata": {
        "id": "Flu3fjvc0AEa"
      },
      "source": [
        "model.save('covid_model_file_128_val_94.h5')\r\n",
        "#/content/covid_model_file"
      ],
      "execution_count": null,
      "outputs": []
    },
    {
      "cell_type": "code",
      "metadata": {
        "id": "IZ_6Ed3TYfFi"
      },
      "source": [
        "#Testing Part"
      ],
      "execution_count": null,
      "outputs": []
    },
    {
      "cell_type": "markdown",
      "metadata": {
        "id": "NfF0BdPNYlki"
      },
      "source": [
        "# **Testing Part**"
      ]
    },
    {
      "cell_type": "code",
      "metadata": {
        "id": "OZTBaNJEz_-R"
      },
      "source": [
        "names = ['COVID-19 Positive', 'Pneumatic Patient', 'NORMAL']"
      ],
      "execution_count": null,
      "outputs": []
    },
    {
      "cell_type": "code",
      "metadata": {
        "id": "JNbN-Rcn0bcI"
      },
      "source": [
        "COMMAN_PATH = '/content/gdrive/\"My Drive\"/Split_Dataset/test-data/'"
      ],
      "execution_count": null,
      "outputs": []
    },
    {
      "cell_type": "code",
      "metadata": {
        "id": "l570ZB5N0bGy"
      },
      "source": [
        "PATH_OF_DATA = COMMAN_PATH + '/COVID-19'\r\n",
        "lis_test = !ls {PATH_OF_DATA}"
      ],
      "execution_count": null,
      "outputs": []
    },
    {
      "cell_type": "code",
      "metadata": {
        "id": "Ees5Rs9vQqG0"
      },
      "source": [
        "PATH_OF_DATA= COMMAN_PATH + '/\"Viral Pneumonia\"'\r\n",
        "pnm_test = !ls {PATH_OF_DATA}"
      ],
      "execution_count": null,
      "outputs": []
    },
    {
      "cell_type": "code",
      "metadata": {
        "id": "HHvdidB3QqDa"
      },
      "source": [
        "PATH_OF_DATA= COMMAN_PATH + '/NORMAL'\r\n",
        "norm_test = !ls {PATH_OF_DATA}"
      ],
      "execution_count": null,
      "outputs": []
    },
    {
      "cell_type": "code",
      "metadata": {
        "colab": {
          "base_uri": "https://localhost:8080/",
          "height": 35
        },
        "id": "aWWyOmqoRCV9",
        "outputId": "ad8185d9-1b71-4084-8299-6046951a8fc8"
      },
      "source": [
        "pnm_test[0]"
      ],
      "execution_count": null,
      "outputs": [
        {
          "output_type": "execute_result",
          "data": {
            "application/vnd.google.colaboratory.intrinsic+json": {
              "type": "string"
            },
            "text/plain": [
              "\"'Viral Pneumonia (1207).png'  'Viral Pneumonia (1277).png'\""
            ]
          },
          "metadata": {
            "tags": []
          },
          "execution_count": 71
        }
      ]
    },
    {
      "cell_type": "code",
      "metadata": {
        "id": "UJIx1jrGQp_I"
      },
      "source": [
        "COMMAN_PATH = 'gdrive/My Drive/Split_Dataset/test-data'"
      ],
      "execution_count": null,
      "outputs": []
    },
    {
      "cell_type": "code",
      "metadata": {
        "id": "0m12ja2PQp9A"
      },
      "source": [
        "lis2_test=[]\r\n",
        "for i in lis_test:\r\n",
        "  for j in range(3):\r\n",
        "    start=i.find('\\'')\r\n",
        "    end=i.find('\\'', start+1)\r\n",
        "\r\n",
        "    if start>=0:\r\n",
        "      temp_name = i[start+1:end]\r\n",
        "      full_path = os.path.join(COMMAN_PATH, 'COVID-19', temp_name)\r\n",
        "      lis2_test.append(full_path)\r\n",
        "      i=i.replace(i[start:end+1], '', 1)"
      ],
      "execution_count": null,
      "outputs": []
    },
    {
      "cell_type": "code",
      "metadata": {
        "id": "W8kpI9o_Qp0w"
      },
      "source": [
        "norm2_test=[]\r\n",
        "for i in norm_test:\r\n",
        "  for j in range(3):\r\n",
        "    start=i.find('\\'')\r\n",
        "    end=i.find('\\'', start+1)\r\n",
        "\r\n",
        "    if start>=0:\r\n",
        "      temp_name = i[start+1:end]\r\n",
        "      full_path = os.path.join(COMMAN_PATH, 'NORMAL', temp_name)\r\n",
        "      norm2_test.append(full_path)\r\n",
        "      i=i.replace(i[start:end+1], '', 1)"
      ],
      "execution_count": null,
      "outputs": []
    },
    {
      "cell_type": "code",
      "metadata": {
        "id": "E8slBZ5SQpw0"
      },
      "source": [
        "pnm2_test=[]\r\n",
        "for i in pnm_test:\r\n",
        "  for j in range(2):\r\n",
        "    start=i.find('\\'')\r\n",
        "    end=i.find('\\'', start+1)\r\n",
        "\r\n",
        "    if start>=0:\r\n",
        "      temp_name = i[start+1:end]\r\n",
        "      full_path = os.path.join(COMMAN_PATH, 'Viral Pneumonia', temp_name)\r\n",
        "      pnm2_test.append(full_path)\r\n",
        "      i=i.replace(i[start:end+1], '', 1)"
      ],
      "execution_count": null,
      "outputs": []
    },
    {
      "cell_type": "code",
      "metadata": {
        "colab": {
          "base_uri": "https://localhost:8080/",
          "height": 35
        },
        "id": "N9Lh6Kl4RxD3",
        "outputId": "4f19328c-d839-44d1-89cc-a666fd84af2a"
      },
      "source": [
        "pnm2_test[0]"
      ],
      "execution_count": null,
      "outputs": [
        {
          "output_type": "execute_result",
          "data": {
            "application/vnd.google.colaboratory.intrinsic+json": {
              "type": "string"
            },
            "text/plain": [
              "'gdrive/My Drive/Split_Dataset/test-data/Viral Pneumonia/Viral Pneumonia (1207).png'"
            ]
          },
          "metadata": {
            "tags": []
          },
          "execution_count": 76
        }
      ]
    },
    {
      "cell_type": "code",
      "metadata": {
        "id": "NAgoQZbIR2s9"
      },
      "source": [
        "x_test1 = []\r\n",
        "for images in range(len(lis2_test)):\r\n",
        "  # image = cv2.imread(lis2[images], 1)\r\n",
        "  image = cv2.imread(lis2_test[images])\r\n",
        "  #height, width = image.shape[:2]\r\n",
        "  # flippedimage1 = cv2.flip(image, 1)\r\n",
        "  # flippedimage2 = cv2.flip(image, 0)\r\n",
        "  x_test1.append(cv2.resize(image, (img_height, img_width)))\r\n",
        "  # x_test1.append(cv2.resize(flippedimage1, (img_height, img_width)))\r\n",
        "  # x_test1.append(cv2.resize(flippedimage2, (img_height, img_width)))\r\n",
        "  # image = image[ math.ceil((1/10)*width) : width - math.ceil((1/10)*width), math.ceil((3/20)*height) : height - math.ceil((1/20)*height) ]\r\n",
        "  # flippedimage = cv2.flip(image, 1)\r\n",
        "  # x_test1.append(cv2.resize(image, (64,64)))\r\n",
        "  # x_test1.append(cv2.resize(flippedimage, (64,64)))"
      ],
      "execution_count": null,
      "outputs": []
    },
    {
      "cell_type": "code",
      "metadata": {
        "id": "dOx9F43lSgCe"
      },
      "source": [
        "x_test2 = []\r\n",
        "for i in range(len(pnm2_test)):\r\n",
        "  image = cv2.imread(pnm2_test[i])\r\n",
        "  #height, width = image.shape[:2]\r\n",
        "  #image = image[ math.floor((1/10)*width) : width - math.floor((1/10)*width), math.floor((3/20)*height) : height - math.floor((1/20)*height) ]\r\n",
        "  # flippedimage1 = cv2.flip(image, 1)\r\n",
        "  # flippedimage2 = cv2.flip(image, 0)\r\n",
        "  x_test2.append(cv2.resize(image, (img_height, img_width)))\r\n",
        "  # x_test2.append(cv2.resize(flippedimage1, (img_height, img_width)))\r\n",
        "  # x_test2.append(cv2.resize(flippedimage2, (img_height, img_width)))"
      ],
      "execution_count": null,
      "outputs": []
    },
    {
      "cell_type": "code",
      "metadata": {
        "id": "0McvSHoWSp6p"
      },
      "source": [
        "x_test3 = []\r\n",
        "for i in range(len(norm2_test)):\r\n",
        "  image = cv2.imread(norm2_test[i])\r\n",
        "  #height, width = image.shape[:2]\r\n",
        "  #image = image[ math.floor((1/10)*width) : width - math.floor((1/10)*width), math.floor((3/20)*height) : height - math.floor((1/20)*height) ]\r\n",
        "  # flippedimage1 = cv2.flip(image, 1)\r\n",
        "  # flippedimage2 = cv2.flip(image, 0)\r\n",
        "  x_test3.append(cv2.resize(image, (img_height, img_width)))\r\n",
        "  # x_test3.append(cv2.resize(flippedimage1, (img_height, img_width)))\r\n",
        "  # x_test3.append(cv2.resize(flippedimage2, (img_height, img_width)))"
      ],
      "execution_count": null,
      "outputs": []
    },
    {
      "cell_type": "code",
      "metadata": {
        "id": "7r0PfsXJS9LQ"
      },
      "source": [
        "x_test = np.vstack((x_test1, x_test2, x_test3))"
      ],
      "execution_count": null,
      "outputs": []
    },
    {
      "cell_type": "code",
      "metadata": {
        "id": "kCpqkz_8TEga"
      },
      "source": [
        "y_test1 = np.zeros((len(x_test1),1), dtype='int32')\r\n",
        "y_test2 = np.ones((len(x_test2),1), dtype='int32')\r\n",
        "y_test3 = np.full((len(x_test3),1), 2)"
      ],
      "execution_count": null,
      "outputs": []
    },
    {
      "cell_type": "code",
      "metadata": {
        "id": "aPSrgBecTO_4"
      },
      "source": [
        "y_test = np.vstack((y_test1, y_test2, y_test3))"
      ],
      "execution_count": null,
      "outputs": []
    },
    {
      "cell_type": "code",
      "metadata": {
        "id": "8D1G_ocoTTTH"
      },
      "source": [
        "y_test_one_hot = to_categorical(y_test)"
      ],
      "execution_count": null,
      "outputs": []
    },
    {
      "cell_type": "code",
      "metadata": {
        "colab": {
          "base_uri": "https://localhost:8080/"
        },
        "id": "uVy7SbdxTXKs",
        "outputId": "b82485d8-0dbc-49c0-d290-d6da0571afd6"
      },
      "source": [
        "print(\"Y Test shape:\" ,y_test_one_hot.shape)\r\n",
        "print(\"X Test Shape:\", x_test.shape)"
      ],
      "execution_count": null,
      "outputs": [
        {
          "output_type": "stream",
          "text": [
            "Y Test shape: (294, 3)\n",
            "X Test Shape: (294, 256, 256, 3)\n"
          ],
          "name": "stdout"
        }
      ]
    },
    {
      "cell_type": "code",
      "metadata": {
        "colab": {
          "base_uri": "https://localhost:8080/"
        },
        "id": "xt8Q58fzULB9",
        "outputId": "4d63fa90-12f7-45cd-f5de-391270800382"
      },
      "source": [
        "len(pnm2_test)"
      ],
      "execution_count": null,
      "outputs": [
        {
          "output_type": "execute_result",
          "data": {
            "text/plain": [
              "139"
            ]
          },
          "metadata": {
            "tags": []
          },
          "execution_count": 95
        }
      ]
    },
    {
      "cell_type": "code",
      "metadata": {
        "colab": {
          "base_uri": "https://localhost:8080/"
        },
        "id": "Ko_beBiNTdI2",
        "outputId": "e98e6bd6-7b47-4fcd-8427-3281b001e567"
      },
      "source": [
        "covid_detect = 0\r\n",
        "normal_detect = 0\r\n",
        "correct = 0\r\n",
        "for j in range(len(pnm2_test)):\r\n",
        "  image = cv2.imread(pnm2_test[j])\r\n",
        "  image = cv2.resize(image, (img_height, img_width))\r\n",
        "  predictions = model.predict(np.array([image]))\r\n",
        "  temp = predictions[0][0]\r\n",
        "  index = 0\r\n",
        "  for i in range(3):\r\n",
        "    if predictions[0][i] > temp:\r\n",
        "      temp=predictions[0][i]\r\n",
        "      index=i\r\n",
        "  if (index == 1):\r\n",
        "    correct += 1\r\n",
        "  elif (index == 0):\r\n",
        "    covid_detect += 1\r\n",
        "  else:\r\n",
        "    normal_detect+=1\r\n",
        "    print(pnm2_test[j], j)"
      ],
      "execution_count": null,
      "outputs": [
        {
          "output_type": "stream",
          "text": [
            "gdrive/My Drive/Split_Dataset/test-data/Viral Pneumonia/Viral Pneumonia (1245).png 76\n",
            "gdrive/My Drive/Split_Dataset/test-data/Viral Pneumonia/Viral Pneumonia (1263).png 112\n"
          ],
          "name": "stdout"
        }
      ]
    },
    {
      "cell_type": "code",
      "metadata": {
        "colab": {
          "base_uri": "https://localhost:8080/"
        },
        "id": "RBkxxc8CVMWb",
        "outputId": "44335953-d1ac-45ce-c57c-f7df0e118c27"
      },
      "source": [
        "print(\"Total Covid Detected In Pneumonia : {0}\\n#Total Normal Detected In Pneumonia : {1}\\nTesting Accuracy : {2}\\nImages Tested : {3}\\nCorrect Predictions : {4}\\nIncorrect Predictions : {5}\".format(covid_detect, normal_detect, (correct/(len(pnm2_test)) * 100), (len(pnm2_test)), correct, (len(pnm2_test)-correct)))"
      ],
      "execution_count": null,
      "outputs": [
        {
          "output_type": "stream",
          "text": [
            "Total Covid Detected In Pneumonia : 0\n",
            "#Total Normal Detected In Pneumonia : 2\n",
            "Testing Accuracy : 98.56115107913669\n",
            "Images Tested : 139\n",
            "Correct Predictions : 137\n",
            "Incorrect Predictions : 2\n"
          ],
          "name": "stdout"
        }
      ]
    },
    {
      "cell_type": "code",
      "metadata": {
        "colab": {
          "base_uri": "https://localhost:8080/"
        },
        "id": "dEyc9POcWHJ5",
        "outputId": "c7939882-dc4d-4d2a-d356-fba362cb257e"
      },
      "source": [
        "norm_correct = 0\r\n",
        "pnm_correct = 0\r\n",
        "covid_detect = 0\r\n",
        "for j in range(len(norm2_test)):\r\n",
        "  image = cv2.imread(norm2_test[j])\r\n",
        "  image = cv2.resize(image, (img_height, img_width))\r\n",
        "  predictions = model.predict(np.array([image]))\r\n",
        "  temp = predictions[0][0]\r\n",
        "  index = 0\r\n",
        "  for i in range(3):\r\n",
        "    if predictions[0][i] > temp:\r\n",
        "      temp=predictions[0][i]\r\n",
        "      index=i\r\n",
        "  if (index == 2):\r\n",
        "    norm_correct += 1\r\n",
        "  elif (index == 0):\r\n",
        "    covid_detect += 1\r\n",
        "  else:\r\n",
        "    pnm_correct+=1\r\n",
        "    print(norm2_test[j], j)"
      ],
      "execution_count": null,
      "outputs": [
        {
          "output_type": "stream",
          "text": [
            "gdrive/My Drive/Split_Dataset/test-data/NORMAL/NORMAL (1211).png 12\n",
            "gdrive/My Drive/Split_Dataset/test-data/NORMAL/NORMAL (1257).png 16\n",
            "gdrive/My Drive/Split_Dataset/test-data/NORMAL/NORMAL (1302).png 17\n",
            "gdrive/My Drive/Split_Dataset/test-data/NORMAL/NORMAL (1230).png 69\n",
            "gdrive/My Drive/Split_Dataset/test-data/NORMAL/NORMAL (1325).png 86\n",
            "gdrive/My Drive/Split_Dataset/test-data/NORMAL/NORMAL (1326).png 89\n",
            "gdrive/My Drive/Split_Dataset/test-data/NORMAL/NORMAL (1327).png 92\n",
            "gdrive/My Drive/Split_Dataset/test-data/NORMAL/NORMAL (1333).png 110\n",
            "gdrive/My Drive/Split_Dataset/test-data/NORMAL/NORMAL (1245).png 114\n",
            "gdrive/My Drive/Split_Dataset/test-data/NORMAL/NORMAL (1335).png 116\n",
            "gdrive/My Drive/Split_Dataset/test-data/NORMAL/NORMAL (1337).png 122\n",
            "gdrive/My Drive/Split_Dataset/test-data/NORMAL/NORMAL (1339).png 128\n",
            "gdrive/My Drive/Split_Dataset/test-data/NORMAL/NORMAL (1250).png 129\n"
          ],
          "name": "stdout"
        }
      ]
    },
    {
      "cell_type": "code",
      "metadata": {
        "colab": {
          "base_uri": "https://localhost:8080/"
        },
        "id": "1aZiMm0vWUDh",
        "outputId": "a119e87b-e3c2-4a23-d678-ad7e7375f039"
      },
      "source": [
        "print(\"Total Covid Detected In Normal : {0}\\nTotal Normal Detected In Normal : {1}\\nTotal Pneumatic Detected In Normal: {2}\\nTesting Accuracy : {3}\\nImages Tested : {4}\\nCorrect Predictions : {5}\\nIncorrect Predictions : {6}\".format(covid_detect, norm_correct, pnm_correct ,(norm_correct/(len(norm2_test)) * 100), (len(norm2_test)), norm_correct, (len(norm2_test)-norm_correct)))"
      ],
      "execution_count": null,
      "outputs": [
        {
          "output_type": "stream",
          "text": [
            "Total Covid Detected In Normal : 1\n",
            "Total Normal Detected In Normal : 121\n",
            "Total Pneumatic Detected In Normal: 13\n",
            "Testing Accuracy : 89.62962962962962\n",
            "Images Tested : 135\n",
            "Correct Predictions : 121\n",
            "Incorrect Predictions : 14\n"
          ],
          "name": "stdout"
        }
      ]
    },
    {
      "cell_type": "code",
      "metadata": {
        "colab": {
          "base_uri": "https://localhost:8080/"
        },
        "id": "8XobP8GRZns0",
        "outputId": "bedb8213-0a4f-4a7b-b9ae-b49702551dc5"
      },
      "source": [
        "norm_detect = 0\r\n",
        "pnm_detect = 0\r\n",
        "covid_correct = 0\r\n",
        "for j in range(len(lis2_test)):\r\n",
        "  image = cv2.imread(lis2_test[j])\r\n",
        "  image = cv2.resize(image, (img_height, img_width))\r\n",
        "  predictions = model.predict(np.array([image]))\r\n",
        "  temp = predictions[0][0]\r\n",
        "  index = 0\r\n",
        "  for i in range(3):\r\n",
        "    if predictions[0][i] > temp:\r\n",
        "      temp=predictions[0][i]\r\n",
        "      index=i\r\n",
        "  if (index == 2):\r\n",
        "    norm_detect += 1\r\n",
        "  elif (index == 0):\r\n",
        "    covid_correct += 1\r\n",
        "  else:\r\n",
        "    pnm_detect+=1\r\n",
        "    print(lis2_test[j], j)"
      ],
      "execution_count": null,
      "outputs": [
        {
          "output_type": "stream",
          "text": [
            "gdrive/My Drive/Split_Dataset/test-data/COVID-19/COVID-19(218).png 14\n",
            "gdrive/My Drive/Split_Dataset/test-data/COVID-19/COVID-19(219).png 17\n"
          ],
          "name": "stdout"
        }
      ]
    },
    {
      "cell_type": "code",
      "metadata": {
        "colab": {
          "base_uri": "https://localhost:8080/"
        },
        "id": "SPpEeJRJZp1q",
        "outputId": "cc5c4e6e-8544-471e-e088-7f3a7ab00b57"
      },
      "source": [
        "print(\"Total Normal Detected In Covid : {0}\\nTotal Pneumatic Detected In Covid : {1}\\nTotal Covid Detected In Covid: {2}\\nTesting Accuracy : {3}\\nImages Tested : {4}\\nCorrect Predictions : {5}\\nIncorrect Predictions : {6}\".format(norm_detect, pnm_detect, covid_correct ,(covid_correct/(len(lis2_test)) * 100), (len(lis2_test)), covid_correct, (len(lis2_test)-covid_correct)))"
      ],
      "execution_count": null,
      "outputs": [
        {
          "output_type": "stream",
          "text": [
            "Total Normal Detected In Covid : 0\n",
            "Total Pneumatic Detected In Covid : 2\n",
            "Total Covid Detected In Covid: 18\n",
            "Testing Accuracy : 90.0\n",
            "Images Tested : 20\n",
            "Correct Predictions : 18\n",
            "Incorrect Predictions : 2\n"
          ],
          "name": "stdout"
        }
      ]
    },
    {
      "cell_type": "code",
      "metadata": {
        "colab": {
          "base_uri": "https://localhost:8080/"
        },
        "id": "2yvOVopzWtvV",
        "outputId": "b3d5607c-13fb-4f86-e80f-90527c6a6ace"
      },
      "source": [
        "pnmAccuracy = correct/(len(pnm2_test)) * 100\r\n",
        "normAccuracy = norm_correct/(len(norm2_test)) * 100\r\n",
        "covidAccuracy = covid_correct/(len(lis2_test)) * 100\r\n",
        "print(\"Total Accuracy : \", (normAccuracy+pnmAccuracy+covidAccuracy)/3,\r\n",
        "      \"\\nTotal Loss : \", (100-(normAccuracy+pnmAccuracy+covidAccuracy)/3))"
      ],
      "execution_count": null,
      "outputs": [
        {
          "output_type": "stream",
          "text": [
            "Total Accuracy :  92.73026023625543 \n",
            "Total Loss :  7.2697397637445675\n"
          ],
          "name": "stdout"
        }
      ]
    },
    {
      "cell_type": "code",
      "metadata": {
        "id": "Co_daeGKXtxl"
      },
      "source": [
        ""
      ],
      "execution_count": null,
      "outputs": []
    },
    {
      "cell_type": "markdown",
      "metadata": {
        "id": "pBwjOPNZZBVs"
      },
      "source": [
        "## **Single Testing**"
      ]
    },
    {
      "cell_type": "code",
      "metadata": {
        "id": "kHbJvM2m0MFd",
        "colab": {
          "base_uri": "https://localhost:8080/",
          "height": 286
        },
        "outputId": "e90aabc9-d831-4f04-d9f3-7d25f0a9426a"
      },
      "source": [
        "#Testing Phase...\r\n",
        "image = cv2.imread(lis2_test[13], 1)\r\n",
        "image = cv2.resize(image, (img_height, img_width))\r\n",
        "plt.imshow(image)"
      ],
      "execution_count": null,
      "outputs": [
        {
          "output_type": "execute_result",
          "data": {
            "text/plain": [
              "<matplotlib.image.AxesImage at 0x7fd5fcb4a2e8>"
            ]
          },
          "metadata": {
            "tags": []
          },
          "execution_count": 148
        },
        {
          "output_type": "display_data",
          "data": {
            "image/png": "[encoded data removed]",
            "text/plain": [
              "<Figure size 432x288 with 1 Axes>"
            ]
          },
          "metadata": {
            "tags": [],
            "needs_background": "light"
          }
        }
      ]
    },
    {
      "cell_type": "code",
      "metadata": {
        "id": "plDo3JLdYNjS"
      },
      "source": [
        "predictions = model.predict(np.array([image]))"
      ],
      "execution_count": null,
      "outputs": []
    },
    {
      "cell_type": "code",
      "metadata": {
        "colab": {
          "base_uri": "https://localhost:8080/"
        },
        "id": "Fz-5FTytYOLG",
        "outputId": "e92b0cc7-d461-4147-e737-30ba894266ad"
      },
      "source": [
        "predictions"
      ],
      "execution_count": null,
      "outputs": [
        {
          "output_type": "execute_result",
          "data": {
            "text/plain": [
              "array([[9.9424028e-01, 5.1013227e-03, 6.5844273e-04]], dtype=float32)"
            ]
          },
          "metadata": {
            "tags": []
          },
          "execution_count": 150
        }
      ]
    },
    {
      "cell_type": "code",
      "metadata": {
        "id": "9K0-jLpdYQRY"
      },
      "source": [
        "temp = predictions[0][0]\r\n",
        "index = 0\r\n",
        "for i in range(3):\r\n",
        "  if predictions[0][i] > temp:\r\n",
        "    temp=predictions[0][i]\r\n",
        "    index=i"
      ],
      "execution_count": null,
      "outputs": []
    },
    {
      "cell_type": "code",
      "metadata": {
        "colab": {
          "base_uri": "https://localhost:8080/"
        },
        "id": "Y6eGnDTvYVyJ",
        "outputId": "5383d652-eaa4-4f82-a6ba-cafd7f85ba79"
      },
      "source": [
        "index"
      ],
      "execution_count": null,
      "outputs": [
        {
          "output_type": "execute_result",
          "data": {
            "text/plain": [
              "0"
            ]
          },
          "metadata": {
            "tags": []
          },
          "execution_count": 152
        }
      ]
    },
    {
      "cell_type": "code",
      "metadata": {
        "colab": {
          "base_uri": "https://localhost:8080/"
        },
        "id": "HD7HX746ZJA2",
        "outputId": "042dfc37-433e-4d19-aadc-ea97a5918bb0"
      },
      "source": [
        "predictions[0][index]"
      ],
      "execution_count": null,
      "outputs": [
        {
          "output_type": "execute_result",
          "data": {
            "text/plain": [
              "0.9942403"
            ]
          },
          "metadata": {
            "tags": []
          },
          "execution_count": 153
        }
      ]
    },
    {
      "cell_type": "code",
      "metadata": {
        "colab": {
          "base_uri": "https://localhost:8080/"
        },
        "id": "fSwtTjtTZKFO",
        "outputId": "01c63548-6132-4119-b965-fff557bf2733"
      },
      "source": [
        "print(\"You Are\",names[index])"
      ],
      "execution_count": null,
      "outputs": [
        {
          "output_type": "stream",
          "text": [
            "You Are COVID-19 Positive\n"
          ],
          "name": "stdout"
        }
      ]
    }
  ]
}